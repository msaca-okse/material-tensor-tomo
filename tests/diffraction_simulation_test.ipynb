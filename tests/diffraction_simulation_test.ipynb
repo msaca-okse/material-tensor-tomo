{
 "cells": [
  {
   "cell_type": "code",
   "execution_count": 14,
   "id": "91e3afb2",
   "metadata": {},
   "outputs": [],
   "source": [
    "import meshio\n",
    "from matplotlib.colors import LinearSegmentedColormap, ListedColormap, BoundaryNorm\n",
    "import matplotlib.pyplot as plt\n",
    "import numpy as np\n",
    "from xrd_simulator_addons import get_ground_truth_slice\n",
    "from multiprocessing import Pool\n",
    "\n",
    "\n",
    "config_file = 'xrd_simulator_addons/configs/config_crystal_exp4.yaml'"
   ]
  },
  {
   "cell_type": "code",
   "execution_count": 15,
   "id": "85d58bc9",
   "metadata": {},
   "outputs": [
    {
     "ename": "FileNotFoundError",
     "evalue": "[Errno 2] No such file or directory: 'samples/mesh_crystal_exp4.pc'",
     "output_type": "error",
     "traceback": [
      "\u001b[31m---------------------------------------------------------------------------\u001b[39m",
      "\u001b[31mFileNotFoundError\u001b[39m                         Traceback (most recent call last)",
      "\u001b[36mCell\u001b[39m\u001b[36m \u001b[39m\u001b[32mIn[15]\u001b[39m\u001b[32m, line 1\u001b[39m\n\u001b[32m----> \u001b[39m\u001b[32m1\u001b[39m phase_map, crystal_map = \u001b[43mget_ground_truth_slice\u001b[49m\u001b[43m.\u001b[49m\u001b[43mget_ground_truth\u001b[49m\u001b[43m(\u001b[49m\u001b[43mconfig\u001b[49m\u001b[43m \u001b[49m\u001b[43m=\u001b[49m\u001b[43m \u001b[49m\u001b[43mconfig_file\u001b[49m\u001b[43m)\u001b[49m\n\u001b[32m      3\u001b[39m \u001b[38;5;66;03m# Base colormap (background=-1, classes 0..3)\u001b[39;00m\n\u001b[32m      4\u001b[39m cmap = ListedColormap([\n\u001b[32m      5\u001b[39m     \u001b[33m\"\u001b[39m\u001b[33m#9e9e9e\u001b[39m\u001b[33m\"\u001b[39m,  \u001b[38;5;66;03m# background\u001b[39;00m\n\u001b[32m      6\u001b[39m     \u001b[33m\"\u001b[39m\u001b[33m#1f77b4\u001b[39m\u001b[33m\"\u001b[39m,  \u001b[38;5;66;03m# class 0\u001b[39;00m\n\u001b[32m      7\u001b[39m     \u001b[33m\"\u001b[39m\u001b[33m#ff7f0e\u001b[39m\u001b[33m\"\u001b[39m,  \u001b[38;5;66;03m# class 1\u001b[39;00m\n\u001b[32m      8\u001b[39m     \u001b[33m\"\u001b[39m\u001b[33m#2ca02c\u001b[39m\u001b[33m\"\u001b[39m,  \u001b[38;5;66;03m# class 2\u001b[39;00m\n\u001b[32m      9\u001b[39m ])\n",
      "\u001b[36mFile \u001b[39m\u001b[32m~/material_tensor_tomo/xrd_simulator_addons/get_ground_truth_slice.py:23\u001b[39m, in \u001b[36mget_ground_truth\u001b[39m\u001b[34m(config)\u001b[39m\n\u001b[32m     20\u001b[39m poly_path = os.path.join(\u001b[33m\"\u001b[39m\u001b[33msamples\u001b[39m\u001b[33m\"\u001b[39m, \u001b[33mf\u001b[39m\u001b[33m\"\u001b[39m\u001b[33mmesh_\u001b[39m\u001b[38;5;132;01m{\u001b[39;00msession_name\u001b[38;5;132;01m}\u001b[39;00m\u001b[33m\"\u001b[39m)\n\u001b[32m     21\u001b[39m poly_path = poly_path + \u001b[33m'\u001b[39m\u001b[33m.pc\u001b[39m\u001b[33m'\u001b[39m\n\u001b[32m---> \u001b[39m\u001b[32m23\u001b[39m polycrystal = \u001b[43mPolycrystal\u001b[49m\u001b[43m.\u001b[49m\u001b[43mload\u001b[49m\u001b[43m(\u001b[49m\u001b[43mpoly_path\u001b[49m\u001b[43m)\u001b[49m\n\u001b[32m     26\u001b[39m \u001b[38;5;28;01mdef\u001b[39;00m\u001b[38;5;250m \u001b[39m\u001b[34m_tet_slice_polygon_z0\u001b[39m(P, eps=\u001b[32m1e-12\u001b[39m):\n\u001b[32m     27\u001b[39m \u001b[38;5;250m    \u001b[39m\u001b[33;03m\"\"\"\u001b[39;00m\n\u001b[32m     28\u001b[39m \u001b[33;03m    Intersect a tetra (4x3) with plane z=0.\u001b[39;00m\n\u001b[32m     29\u001b[39m \u001b[33;03m    Returns:\u001b[39;00m\n\u001b[32m     30\u001b[39m \u001b[33;03m        None if empty/degenerate, else (K,2) polygon vertices in XY, ordered CCW.\u001b[39;00m\n\u001b[32m     31\u001b[39m \u001b[33;03m    \"\"\"\u001b[39;00m\n",
      "\u001b[36mFile \u001b[39m\u001b[32m~/miniconda3/envs/cil/lib/python3.11/site-packages/xrd_simulator/polycrystal.py:509\u001b[39m, in \u001b[36mPolycrystal.load\u001b[39m\u001b[34m(cls, path)\u001b[39m\n\u001b[32m    507\u001b[39m \u001b[38;5;28;01mif\u001b[39;00m \u001b[38;5;129;01mnot\u001b[39;00m path.endswith(\u001b[33m\"\u001b[39m\u001b[33m.pc\u001b[39m\u001b[33m\"\u001b[39m):\n\u001b[32m    508\u001b[39m     \u001b[38;5;28;01mraise\u001b[39;00m \u001b[38;5;167;01mValueError\u001b[39;00m(\u001b[33m\"\u001b[39m\u001b[33mThe loaded polycrystal file must end with .pc\u001b[39m\u001b[33m\"\u001b[39m)\n\u001b[32m--> \u001b[39m\u001b[32m509\u001b[39m \u001b[38;5;28;01mwith\u001b[39;00m \u001b[38;5;28;43mopen\u001b[39;49m\u001b[43m(\u001b[49m\u001b[43mpath\u001b[49m\u001b[43m,\u001b[49m\u001b[43m \u001b[49m\u001b[33;43m\"\u001b[39;49m\u001b[33;43mrb\u001b[39;49m\u001b[33;43m\"\u001b[39;49m\u001b[43m)\u001b[49m \u001b[38;5;28;01mas\u001b[39;00m f:\n\u001b[32m    510\u001b[39m     \u001b[38;5;28;01mreturn\u001b[39;00m dill.load(f)\n",
      "\u001b[31mFileNotFoundError\u001b[39m: [Errno 2] No such file or directory: 'samples/mesh_crystal_exp4.pc'"
     ]
    }
   ],
   "source": [
    "phase_map, crystal_map = get_ground_truth_slice.get_ground_truth(config = config_file)\n",
    "\n",
    "# Base colormap (background=-1, classes 0..3)\n",
    "cmap = ListedColormap([\n",
    "    \"#9e9e9e\",  # background\n",
    "    \"#1f77b4\",  # class 0\n",
    "    \"#ff7f0e\",  # class 1\n",
    "    \"#2ca02c\",  # class 2\n",
    "])\n",
    "bounds = [-1.5, -0.5, 0.5, 1.5, 2.5]\n",
    "norm = BoundaryNorm(bounds, cmap.N)\n",
    "\n",
    "# Make new colormaps: white → color\n",
    "new_cmaps = []\n",
    "for i, color in enumerate(cmap.colors):\n",
    "    new_cmaps.append(\n",
    "        LinearSegmentedColormap.from_list(f\"class_{i}\", [\"white\", color])\n",
    "    )\n",
    "\n",
    "fig, ax = plt.subplots(figsize=(6, 6))\n",
    "\n",
    "im = ax.imshow(phase_map, origin='lower', interpolation='nearest',\n",
    "               cmap=cmap, norm=norm)\n",
    "\n",
    "# 2) Texture overlay where crystal_map==1 (keeps phase color, adds stripes)\n",
    "ny, nx = crystal_map.shape\n",
    "xx, yy = np.meshgrid(np.arange(nx), np.arange(ny))\n",
    "# diagonal stripe pattern; tweak \"8\" (period) and \"< 4\" (duty cycle) to change look\n",
    "stripe = ((xx + 1*yy) % 16) < 4\n",
    "mask = (crystal_map != 0)\n",
    "\n",
    "alpha = (mask & stripe).astype(float) * 0.65  # stripe opacity\n",
    "overlay = np.zeros((ny, nx, 4), dtype=float)  # black stripes\n",
    "overlay[..., 3] = alpha\n",
    "\n",
    "ax.imshow(overlay, interpolation='nearest')\n",
    "\n",
    "ax.set_xlabel('x'); ax.set_ylabel('y'); ax.set_title('z=0 slice (phase + crystal texture)')\n",
    "cbar = plt.colorbar(im, ax=ax, ticks=[-1, 0, 1, 2], fraction=0.046, pad=0.04)\n",
    "cbar.ax.set_yticklabels(['background', '0', '1', '2'])\n",
    "plt.show()\n",
    "plt.figure(figsize=(6,6))\n",
    "for i in range(len(spec)):\n",
    "    plt.plot(spec[i])\n",
    "    print(spec[i].sum())\n",
    "plt.show()"
   ]
  },
  {
   "cell_type": "code",
   "execution_count": null,
   "id": "825001e1",
   "metadata": {},
   "outputs": [],
   "source": []
  }
 ],
 "metadata": {
  "kernelspec": {
   "display_name": "Python 3 (ipykernel)",
   "language": "python",
   "name": "python3"
  },
  "language_info": {
   "codemirror_mode": {
    "name": "ipython",
    "version": 3
   },
   "file_extension": ".py",
   "mimetype": "text/x-python",
   "name": "python",
   "nbconvert_exporter": "python",
   "pygments_lexer": "ipython3",
   "version": "3.11.11"
  }
 },
 "nbformat": 4,
 "nbformat_minor": 5
}
